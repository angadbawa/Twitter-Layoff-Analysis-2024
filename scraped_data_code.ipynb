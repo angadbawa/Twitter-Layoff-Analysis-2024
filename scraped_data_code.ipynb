{
  "nbformat": 4,
  "nbformat_minor": 0,
  "metadata": {
    "colab": {
      "provenance": []
    },
    "kernelspec": {
      "name": "python3",
      "display_name": "Python 3"
    },
    "language_info": {
      "name": "python"
    }
  },
  "cells": [
    {
      "cell_type": "code",
      "source": [
        "pip install ntscraper"
      ],
      "metadata": {
        "colab": {
          "base_uri": "https://localhost:8080/"
        },
        "id": "wgBmMdWiuz2b",
        "outputId": "a184b8fc-7088-482b-811e-afeb3791cbbc"
      },
      "execution_count": null,
      "outputs": [
        {
          "output_type": "stream",
          "name": "stdout",
          "text": [
            "Requirement already satisfied: ntscraper in /usr/local/lib/python3.10/dist-packages (0.3.13)\n",
            "Requirement already satisfied: requests in /usr/local/lib/python3.10/dist-packages (from ntscraper) (2.31.0)\n",
            "Requirement already satisfied: beautifulsoup4 in /usr/local/lib/python3.10/dist-packages (from ntscraper) (4.12.3)\n",
            "Requirement already satisfied: lxml in /usr/local/lib/python3.10/dist-packages (from ntscraper) (4.9.4)\n",
            "Requirement already satisfied: soupsieve>1.2 in /usr/local/lib/python3.10/dist-packages (from beautifulsoup4->ntscraper) (2.5)\n",
            "Requirement already satisfied: charset-normalizer<4,>=2 in /usr/local/lib/python3.10/dist-packages (from requests->ntscraper) (3.3.2)\n",
            "Requirement already satisfied: idna<4,>=2.5 in /usr/local/lib/python3.10/dist-packages (from requests->ntscraper) (3.7)\n",
            "Requirement already satisfied: urllib3<3,>=1.21.1 in /usr/local/lib/python3.10/dist-packages (from requests->ntscraper) (2.0.7)\n",
            "Requirement already satisfied: certifi>=2017.4.17 in /usr/local/lib/python3.10/dist-packages (from requests->ntscraper) (2024.2.2)\n"
          ]
        }
      ]
    },
    {
      "cell_type": "code",
      "source": [
        "from ntscraper import Nitter\n",
        "import pandas as pd"
      ],
      "metadata": {
        "id": "RAWBxtt3vB7q"
      },
      "execution_count": null,
      "outputs": []
    },
    {
      "cell_type": "code",
      "source": [
        "scraper = Nitter(log_level = 1,skip_instance_check= False)\n",
        "def create_tweets_dataset(layoff,no_of_tweets):\n",
        "    tweets = scraper.get_tweets(layoff,mode=\"hashtag\",number=no_of_tweets)\n",
        "    data = {\n",
        "        'link':[],\n",
        "        'text':[],\n",
        "        'user':[],\n",
        "        'likes':[],\n",
        "        'quotes':[],\n",
        "        'retweets':[],\n",
        "        'comments':[]\n",
        "    }\n",
        "\n",
        "    for tweet in tweets['tweets']:\n",
        "        data['link'].append(tweet['link'])\n",
        "        data['text'].append(tweet['text'])\n",
        "        data['user'].append(tweet['user']['name'])\n",
        "        data['likes'].append(tweet['stats']['likes'])\n",
        "        data['quotes'].append(tweet['stats']['quotes'])\n",
        "        data['retweets'].append(tweet['stats']['retweets'])\n",
        "        data['comments'].append(tweet['stats']['comments'])\n",
        "    df = pd.DataFrame(data)\n",
        "    df.to_csv(layoff+\".csv\")\n",
        "\n",
        "create_tweets_dataset(\"tweets\",300)"
      ],
      "metadata": {
        "id": "DEecwwFtwvdO"
      },
      "execution_count": null,
      "outputs": []
    },
    {
      "cell_type": "markdown",
      "source": [
        "If public host is not free, use your own host here - \"http://localhost:8080\", refer to this guide https://github.com/bocchilorenzo/ntscraper/issues/61"
      ],
      "metadata": {
        "id": "RpqtwE6RVrAa"
      }
    },
    {
      "cell_type": "code",
      "source": [],
      "metadata": {
        "id": "6MTQIY-9GsM3"
      },
      "execution_count": null,
      "outputs": []
    }
  ]
}